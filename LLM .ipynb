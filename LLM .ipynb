{
 "cells": [
  {
   "cell_type": "code",
   "execution_count": 1,
   "id": "a247dd1b-2281-447a-a674-00327bf72d0e",
   "metadata": {},
   "outputs": [],
   "source": [
    "import torch\n",
    "import torch.nn as nn\n",
    "import torch.optim as optim\n",
    "import math\n",
    "\n",
    "def tokenize(text, vocab):\n",
    "    return [vocab.get(word, vocab[\"<UNK>\"]) for word in text.split()]"
   ]
  },
  {
   "cell_type": "code",
   "execution_count": 2,
   "id": "21b2e9cd-f8ee-4fcf-823f-bfcb6b7eec42",
   "metadata": {},
   "outputs": [],
   "source": [
    "class Embedding(nn.Module):\n",
    "    def __init__(self, vocab_size, embedding_dim):\n",
    "        super(Embedding, self).__init__()\n",
    "        self.embedding = nn.Embedding(vocab_size, embedding_dim)\n",
    "\n",
    "    def forward(self, x):\n",
    "        return self.embedding(x)"
   ]
  },
  {
   "cell_type": "code",
   "execution_count": 3,
   "id": "04289c4d-d4b2-4768-b00b-8646f82fcfa1",
   "metadata": {},
   "outputs": [],
   "source": [
    "class PositionalEncoding(nn.Module):\n",
    "    def __init__(self, embedding_dim, max_seq_len=5000):\n",
    "        super(PositionalEncoding, self).__init__()\n",
    "        self.embedding_dim = embedding_dim\n",
    "        pe = torch.zeros(max_seq_len, embedding_dim)\n",
    "        position = torch.arange(0, max_seq_len, dtype=torch.float).unsqueeze(1)\n",
    "        div_term = torch.exp(torch.arange(0, embedding_dim, 2).float() * (-math.log(10000.0) / embedding_dim))\n",
    "        pe[:, 0::2] = torch.sin(position * div_term)\n",
    "        pe[:, 1::2] = torch.cos(position * div_term)\n",
    "        pe = pe.unsqueeze(0).transpose(0, 1)\n",
    "        self.register_buffer('pe', pe)\n",
    "\n",
    "    def forward(self, x):\n",
    "        return x + self.pe[:x.size(0), :]"
   ]
  },
  {
   "cell_type": "code",
   "execution_count": 4,
   "id": "0014c12c-8247-474e-b05d-a7e25c787d95",
   "metadata": {},
   "outputs": [],
   "source": [
    "class SelfAttention(nn.Module):\n",
    "    def __init__(self, embedding_dim):\n",
    "        super(SelfAttention, self).__init__()\n",
    "        self.query = nn.Linear(embedding_dim, embedding_dim)\n",
    "        self.key = nn.Linear(embedding_dim, embedding_dim)\n",
    "        self.value = nn.Linear(embedding_dim, embedding_dim)\n",
    "\n",
    "    def forward(self, x):\n",
    "        queries = self.query(x)\n",
    "        keys = self.key(x)\n",
    "        values = self.value(x)\n",
    "        scores = torch.bmm(queries, keys.transpose(1, 2)) / torch.sqrt(torch.tensor(x.size(-1), dtype=torch.float32))\n",
    "        attention_weights = torch.softmax(scores, dim=-1)\n",
    "        attended_values = torch.bmm(attention_weights, values)\n",
    "        return attended_values"
   ]
  },
  {
   "cell_type": "code",
   "execution_count": 5,
   "id": "00e3f192-494d-4e94-a438-d4937c0a2267",
   "metadata": {},
   "outputs": [],
   "source": [
    "class TransformerBlock(nn.Module):\n",
    "    def __init__(self, embedding_dim, hidden_dim):\n",
    "        super(TransformerBlock, self).__init__()\n",
    "        self.attention = SelfAttention(embedding_dim)\n",
    "        self.feed_forward = nn.Sequential(\n",
    "            nn.Linear(embedding_dim, hidden_dim),\n",
    "            nn.ReLU(),\n",
    "            nn.Linear(hidden_dim, embedding_dim)\n",
    "        )\n",
    "        self.norm1 = nn.LayerNorm(embedding_dim)\n",
    "        self.norm2 = nn.LayerNorm(embedding_dim)\n",
    "\n",
    "    def forward(self, x):\n",
    "        attended = self.attention(x)\n",
    "        x = self.norm1(x + attended)\n",
    "        forwarded = self.feed_forward(x)\n",
    "        x = self.norm2(x + forwarded)\n",
    "        return x"
   ]
  },
  {
   "cell_type": "code",
   "execution_count": 6,
   "id": "33c2eec8-44c0-41ff-a6bd-268a20dff50f",
   "metadata": {},
   "outputs": [],
   "source": [
    "class SimpleLLM(nn.Module):\n",
    "    def __init__(self, vocab_size, embedding_dim, hidden_dim, num_layers):\n",
    "        super(SimpleLLM, self).__init__()\n",
    "        self.embedding = Embedding(vocab_size, embedding_dim)\n",
    "        self.positional_encoding = PositionalEncoding(embedding_dim)\n",
    "        self.transformer_blocks = nn.Sequential(*[TransformerBlock(embedding_dim, hidden_dim) for _ in range(num_layers)])\n",
    "        self.output = nn.Linear(embedding_dim, vocab_size)\n",
    "\n",
    "    def forward(self, x):\n",
    "        x = self.embedding(x)\n",
    "        x = x.transpose(0, 1) # Transpose for positional encoding\n",
    "        x = self.positional_encoding(x)\n",
    "        x = x.transpose(0, 1) # Transpose back\n",
    "        x = self.transformer_blocks(x)\n",
    "        x = self.output(x)\n",
    "        return x"
   ]
  },
  {
   "cell_type": "code",
   "execution_count": 7,
   "id": "0ac1de45-64fc-4d33-a359-478b3f2989e9",
   "metadata": {},
   "outputs": [
    {
     "name": "stdout",
     "output_type": "stream",
     "text": [
      "Epoch 0, Loss: 2.2278313636779785\n",
      "Epoch 10, Loss: 0.9010230898857117\n",
      "Epoch 20, Loss: 0.2879256308078766\n",
      "Epoch 30, Loss: 0.1435006856918335\n",
      "Epoch 40, Loss: 0.0900619775056839\n",
      "Epoch 50, Loss: 0.06306473165750504\n",
      "Epoch 60, Loss: 0.04678221046924591\n",
      "Epoch 70, Loss: 0.0360381156206131\n",
      "Epoch 80, Loss: 0.028548920527100563\n",
      "Epoch 90, Loss: 0.023120932281017303\n"
     ]
    }
   ],
   "source": [
    "vocab = {\"hello\": 0, \"world\": 1, \"how\": 2, \"are\": 3, \"you\": 4, \"<UNK>\": 5}\n",
    "vocab_size = len(vocab)\n",
    "embedding_dim = 16\n",
    "hidden_dim = 32\n",
    "num_layers = 2\n",
    "\n",
    "model = SimpleLLM(vocab_size, embedding_dim, hidden_dim, num_layers)\n",
    "criterion = nn.CrossEntropyLoss()\n",
    "optimizer = optim.Adam(model.parameters(), lr=0.001)\n",
    "\n",
    "data = [\"hello world how are you\", \"how are you hello world\"]\n",
    "tokenized_data = [tokenize(sentence, vocab) for sentence in data]\n",
    "\n",
    "for epoch in range(100):\n",
    "    for sentence in tokenized_data:\n",
    "        for i in range(1, len(sentence)):\n",
    "            input_seq = torch.tensor(sentence[:i]).unsqueeze(0)\n",
    "            target = torch.tensor(sentence[i]).unsqueeze(0)\n",
    "            optimizer.zero_grad()\n",
    "            output = model(input_seq)\n",
    "            loss = criterion(output[:, -1, :], target)\n",
    "            loss.backward()\n",
    "            optimizer.step()\n",
    "    if epoch % 10 == 0:\n",
    "        print(f\"Epoch {epoch}, Loss: {loss.item()}\")"
   ]
  },
  {
   "cell_type": "code",
   "execution_count": 8,
   "id": "fccf8d56-6939-48e9-a18f-2c72bb825671",
   "metadata": {},
   "outputs": [
    {
     "name": "stdout",
     "output_type": "stream",
     "text": [
      "Input: hello world how, Predicted: are\n"
     ]
    }
   ],
   "source": [
    "input_text = \"hello world how\"\n",
    "input_tokens = tokenize(input_text, vocab)\n",
    "input_tensor = torch.tensor(input_tokens).unsqueeze(0)\n",
    "output = model(input_tensor)\n",
    "predicted_token = torch.argmax(output[:, -1, :]).item()\n",
    "print(f\"Input: {input_text}, Predicted: {list(vocab.keys())[list(vocab.values()).index(predicted_token)]}\")"
   ]
  }
 ],
 "metadata": {
  "kernelspec": {
   "display_name": "Python 3 (ipykernel)",
   "language": "python",
   "name": "python3"
  },
  "language_info": {
   "codemirror_mode": {
    "name": "ipython",
    "version": 3
   },
   "file_extension": ".py",
   "mimetype": "text/x-python",
   "name": "python",
   "nbconvert_exporter": "python",
   "pygments_lexer": "ipython3",
   "version": "3.12.7"
  }
 },
 "nbformat": 4,
 "nbformat_minor": 5
}
